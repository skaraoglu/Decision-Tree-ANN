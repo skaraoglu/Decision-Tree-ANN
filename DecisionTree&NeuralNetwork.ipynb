{
 "cells": [
  {
   "cell_type": "markdown",
   "metadata": {},
   "source": [
    "# Project 4: Artificial Intelligence\n",
    "\n",
    "# Introduction\n",
    "\n",
    "This project focuses on the implementation and evaluation of two supervised learning schemes: Decision Trees and Feedforward, Multilayer Neural Networks. The goal is to write Python code to implement these algorithms and analyze the results when varying algorithm options or parameters. These methods are tested on several datasets, with decision trees being tested with varied maximum depth and neural networks being varied on the number of nodes in their hidden layer. All datasets and methods are adopted for binary targets. To provide real-life application quality for our experiments, we adopted two different datasets from UCI Machine Learning Repository and one dataset from Kaggle; a mushroom dataset, a banknote dataset and a workplace satisfaction dataset. All of these datasets are built with real world examples. In this report, we present our datasets followed by the decision tree and neural network implementations. Further, we present the experiment results for each different scenario created with varying methods, their parameters, dataset split sizes and finally we compare their prediction accuracy. We conclude this project with our comments on the experiment results.\n",
    "\n",
    "# Background\n",
    "\n",
    "In this section, we provide necessary background information for this project. To implement the techniques and experiment with datasets, we used jupyter environment with python programming language. We used pandas library to work with datasets in our environment. In this project, we experimented with three datasets, all provided by UCI Machine Learning Repository and Kaggle. We selected datasets with only binary classes and collected from real world examples. To provide better insight, here we present detailed information about the datasets.\n",
    "\n",
    "## Libraries\n",
    "\n",
    "Numpy library is utilized to calculate the statistics. Pandas library is utilized to handle the datasets to map the features and targets in dataframe structure. Matplotlib and Seaborn libraries provide graphical representations presented in this work. The sklearn library is one of the main libraries employed in the data science area, here the helping functions classification_report and accuracy_score are used to gain information about model accuracy, train_test_split is utilized to split the dataset into training and test sets, LabelEncoder encodes target labels with value between 0 and n_classes-1. And counter function is the dictionary subclass used for counting the objects that are hashable"
   ]
  },
  {
   "cell_type": "code",
   "execution_count": 1,
   "metadata": {},
   "outputs": [],
   "source": [
    "import math\n",
    "import numpy as np\n",
    "import pandas as pd\n",
    "import matplotlib.pyplot as plt\n",
    "import seaborn as sns\n",
    "from sklearn.metrics import classification_report\n",
    "from sklearn.metrics import accuracy_score\n",
    "from sklearn.model_selection import train_test_split\n",
    "from sklearn.preprocessing import LabelEncoder\n",
    "from collections import Counter\n",
    "sns.set(style=\"whitegrid\")"
   ]
  },
  {
   "cell_type": "markdown",
   "metadata": {},
   "source": [
    "# Methods\n",
    "\n",
    "This section provides in-depth explanation for methods adopted in this project. To conduct this work, we utilized two supervised learning techniques; decision trees and artificial neural network. Each method are implemented by scratch with pseudo-codes provided in the project assignment.\n",
    "\n",
    "## Decision Tree\n",
    "\n",
    "Decision Tree is an upside-down tree that represent the decisions based on the given attributes. This method is implemented in machine learning researches with the purpose of making classifications based on the input data. Decision Trees naturally favor the data with categorical and conditional values. If the features are continuous, it can be converted to categorical data with an extra step. The upside-down structure of the tree allows to traverse the nodes of the tree to find the outcome owing to that each node consist of a feature that is split into more nodes down the tree structure. To build the Decision Tree, there is a necessity to compare and calculate the best split on features. To achieve this task and to decide how to split the tree, some splitting measure should be utilized.\n",
    "\n",
    "With the consideration of more than one feature is affecting the decision making process, the priority should be evaluating the impact of each feature. With this evaluation, the most important or relevant feature takes its place on the top of the tree. As the next step, the same process is applied to second most relevant feature and this process is finished when all the attributes are contributed in the evaluation process. As this process continues, moving down the tree, the uncertainty and impurity decreases, hence the classification gets more accurate.\n",
    "\n",
    "There are several methods to calculate the best splitting for the given attributes. Entropy is one of the splitting methods, it measures the uncertainty of a variable. This uncertainty of the variable $\"i\"$ is calculated with: $E(S) = \\sum_{i=1}^n-p_i\\log_2p_i$. Information Gain is another splitting method that is built on the Entropy method and aims to reduce the Entropy from the root to the leaves of the tree. Information Gain can be calculated with; $Gain(S) = E(S) - \\sum_{v(A)}\\frac{|S_v|}{|S|}E(S_v)$. Gini Index - Gini Impurity measures the probabilty of a variable being classified wrong and tries to minimize this to achieve better classification. On the calculation of Gini Index, the result varies between 0 and 1. Gini Index of 0 means that every attribute belong to a certain class or there are not multiple classes, when the Gini Index is 1, elements are randomly distributed to different classes. Gini Index can be obtained with: $Gini = 1 - \\sum_{i=1}^n(p_i)^2$. Here the $p_i$ refers to the probability of an element being classified to a certain class. When building the tree, the feature with the lowest Gini Index is assigned as the root note and the decision tree is built by repeating this step. Gini Index has more advantages comparing to Entropy and Information Gain, Gini Index is computationally less expensive comparing to other methods that employs logarithmic calculations. That's the reason that this project implements Gini Index as it's splitting measurement method.\n",
    "\n",
    "Decision Tree implementation of this project adopts this algorithm:\n",
    "\n",
    "```\n",
    "Function Learn-Decision-Tree(examples, attributes, parent_examples) returns a tree\n",
    "    If examples is empty \n",
    "        Return Plurality-Value(parent\\_examples)\n",
    "    Else If all examples have the same classification\n",
    "        Return the classification\n",
    "    Else If attributes is empty\n",
    "        Return Plurality-Value(examples)\n",
    "    Else\n",
    "        A \\gets argmax_{a \\in attributes} Importance(a, examples)\n",
    "        tree \\gets a new decision tree with root test A\n",
    "        For each value v of A do\n",
    "            exs \\gets \\{e : e \\in examples \\text{ and } e.A = v\\}\n",
    "            subtree \\gets Learn-Decision-Tree(exs, attributes - A, examples)\n",
    "            add a branch to tree with label (A = v) and subtree\n",
    "        Return tree\n",
    "```"
   ]
  },
  {
   "cell_type": "code",
   "execution_count": 2,
   "metadata": {},
   "outputs": [],
   "source": [
    "class DecisionTree:\n",
    "    def __init__(self):\n",
    "        self.tree = None\n",
    "        \n",
    "    def fit(self, X, y, max_depth=None, split=None):\n",
    "        data = pd.concat([X, y], axis=1)\n",
    "        self.data = data\n",
    "        features = data.columns[:-1]\n",
    "        if split == \"gini\":\n",
    "            self.tree = self.learn_decision_tree(data, features, data, max_depth=max_depth, split=self.gini_index)\n",
    "        elif split == \"information_gain\":\n",
    "            self.tree = self.learn_decision_tree(data, features, data, max_depth=max_depth, split=self.information_gain)\n",
    "        else:\n",
    "            self.tree = self.learn_decision_tree(data, features, data, max_depth=max_depth, split=self.entropy)\n",
    "\n",
    "    def predict(self, X):\n",
    "        predictions = []\n",
    "        for _, row in X.iterrows():\n",
    "            predictions.append(self.predict_example(row, self.tree))\n",
    "        return predictions\n",
    "\n",
    "    def learn_decision_tree(self, examples, attributes, parent_examples, depth=0, max_depth=None, split=None):\n",
    "        if len(examples) == 0:\n",
    "            return self.plurality_value(parent_examples)\n",
    "        elif len(examples['class'].unique()) == 1:\n",
    "            return examples['class'].unique()[0]\n",
    "        elif len(attributes) == 0:\n",
    "            return self.plurality_value(examples)\n",
    "        elif max_depth is not None and depth >= max_depth:\n",
    "            return self.plurality_value(examples)\n",
    "        else:\n",
    "            A = self.importance(attributes, examples, split)\n",
    "            tree = {A: {}}\n",
    "            for v in examples[A].unique():\n",
    "                exs = examples[examples[A] == v]\n",
    "                subtree = self.learn_decision_tree(exs, attributes.drop(A), examples, depth + 1, max_depth, split=split)\n",
    "                tree[A][v] = subtree\n",
    "            return tree\n",
    "\n",
    "    def plurality_value(self, data):\n",
    "        return data['class'].value_counts().idxmax()\n",
    "\n",
    "    def importance(self, attributes, examples, split_func):\n",
    "        info_gain = {}\n",
    "        for attribute in attributes:\n",
    "            info_gain[attribute] = split_func(attribute, examples)\n",
    "        return max(info_gain, key=info_gain.get)\n",
    "\n",
    "    def information_gain(self, attribute, examples):\n",
    "        total_entropy = self.entropy(attribute, examples)\n",
    "        values, counts = np.unique(examples[attribute], return_counts=True)\n",
    "        weighted_entropy = sum([(counts[i]/sum(counts)) * self.entropy(attribute, examples.where(examples[attribute]==values[i]).dropna()) for i in range(len(values))])\n",
    "        return total_entropy - weighted_entropy\n",
    "\n",
    "    def gini_index(self, attribute, examples):\n",
    "        values, counts = np.unique(examples[attribute], return_counts=True)\n",
    "        impurity = 1 - sum([(counts[i]/sum(counts))**2 for i in range(len(values))])\n",
    "        weighted_impurity = sum([(counts[i]/sum(counts)) * (1 - sum([(len(examples.where((examples[attribute]==values[i]) & (examples['class']==c)).dropna())/len(examples.where(examples[attribute]==values[i]).dropna()))**2 for c in examples['class'].unique()])) for i in range(len(values))])\n",
    "        return impurity - weighted_impurity\n",
    "\n",
    "    def entropy(self, attribute, examples):\n",
    "        values, counts = np.unique(examples['class'], return_counts=True)\n",
    "        probabilities = counts / counts.sum()\n",
    "        entropy = sum(probabilities * -np.log2(probabilities))\n",
    "        return entropy\n",
    "\n",
    "    def predict_example(self, example, tree):\n",
    "        attribute = list(tree.keys())[0]\n",
    "        if example[attribute] in tree[attribute].keys():\n",
    "            result = tree[attribute][example[attribute]]\n",
    "            if isinstance(result, dict):\n",
    "                return self.predict_example(example,result)\n",
    "            else:\n",
    "                return result\n",
    "        else:\n",
    "            return self.plurality_value(self.data)"
   ]
  },
  {
   "cell_type": "markdown",
   "metadata": {},
   "source": [
    "## Artificial Neural Network\n",
    "\n",
    "Artificial Neural Network (ANN) is a machine learning method that is inspired by the structure and function of the human brain. ANN is a collection of interconnected nodes, called neurons, that work together to process and classify input data. The neurons are organized into layers, with each layer responsible for a specific type of processing. The input layer receives the input data, and the output layer produces the final classification. The hidden layers, located between the input and output layers, perform intermediate processing to extract features from the input data.\n",
    "\n",
    "To train an ANN, a set of input-output pairs, called examples, are fed into the network. The network processes the input and produces an output, which is compared to the desired output. The difference between the actual and desired output is used to adjust the weights of the connections between the neurons. This process is repeated for multiple iterations until the network produces accurate outputs for the given inputs.\n",
    "\n",
    "The Back-Propagation algorithm is a widely used method for training ANNs. This algorithm works by propagating the error from the output layer back through the network to adjust the weights of the connections. The algorithm starts by randomly initializing the weights of the connections between the neurons. Then, for each example in the training set, the input is fed forward through the network, and the output is compared to the desired output. The error is then propagated backward through the network, and the weights are adjusted to reduce the error. This process is repeated for multiple iterations until the network produces accurate outputs for the given inputs.\n",
    "\n",
    "There are several activation functions that can be used in ANNs, such as sigmoid, ReLU, and tanh. The sigmoid function is commonly used in the output layer for binary classification problems, while the ReLU function is used in the hidden layers for its computational efficiency. The choice of activation function depends on the problem being solved and the characteristics of the data.\n",
    "\n",
    "Artificial Neural Network implementation of this project employs this algorithm:\n",
    "\n",
    "```\n",
    "FUNCTION Back-Prop-Learning(examples, network) returns a neural network\n",
    "    inputs: examples, a set of examples, each with input vector X and output vector y\n",
    "            network, a multilayer network with L layers, weights w_ij, activation function g\n",
    "    local variables: Delta, a vector of errors, indexed by network node\n",
    "    for each weight w_ij in network do\n",
    "        w_ij <- a small random number\n",
    "    repeat\n",
    "        for each example (x, y) in examples do\n",
    "            /* Propagate the inputs forward to compute the outputs */\n",
    "            for each node i in the input layer do\n",
    "                a_i <- x_i\n",
    "            end for\n",
    "            for l = 2 to L do\n",
    "                for each node j in layer l do\n",
    "                    in_j <- sum_i(w_ij * a_i)\n",
    "                    a_j <- g(in_j)\n",
    "                end for\n",
    "            end for\n",
    "            /* Propagate deltas backward from output layer to input layer */\n",
    "            for each node j in the output layer do\n",
    "                Delta[j] <- g'(in_j) * (y_j - a_j)\n",
    "            end for\n",
    "            for l = L-1 to 1 do\n",
    "                for each node i in layer l do\n",
    "                    Delta[i] <- g'(in_i) * sum_j(w_ij * Delta[j])\n",
    "                end for\n",
    "            end for\n",
    "            /* Update every weight in network using deltas */\n",
    "            for each weight w_ij in network do\n",
    "                w_ij <- w_ij + alpha * a_i * Delta[j]\n",
    "            end for\n",
    "        end for\n",
    "    until some stopping criterion is satisfied\n",
    "    return network\n",
    "end function\n",
    "```"
   ]
  },
  {
   "cell_type": "code",
   "execution_count": 3,
   "metadata": {},
   "outputs": [],
   "source": [
    "class NeuralNetwork:\n",
    "    def __init__(self, layers, learning_rate=0.1):\n",
    "        self.layers = layers\n",
    "        self.learning_rate = learning_rate\n",
    "        self.weights = []\n",
    "        self.biases = []\n",
    "        for i in range(len(layers)-1):\n",
    "            self.weights.append(np.random.randn(layers[i], layers[i+1]))\n",
    "            self.biases.append(np.random.randn(layers[i+1]))\n",
    "\n",
    "    def sigmoid(self, x):\n",
    "        return 1 / (1 + np.exp(-x))\n",
    "\n",
    "    def sigmoid_derivative(self, x):\n",
    "        return x * (1 - x)\n",
    "\n",
    "    def fit(self, X, y, epochs=1000, verbose=False):\n",
    "        for epoch in range(epochs):\n",
    "            if verbose:\n",
    "                print(f'Epoch: {epoch+1}/{epochs}', end='')\n",
    "            for i in range(len(X)):\n",
    "                # Forward propagation\n",
    "                a = [X.iloc[i]]\n",
    "                for l in range(len(self.weights)):\n",
    "                    z = np.dot(a[l], self.weights[l]) + self.biases[l]\n",
    "                    a.append(self.sigmoid(z))\n",
    "\n",
    "                # Backward propagation\n",
    "                error = y.iloc[i] - a[-1]\n",
    "                deltas = [error * self.sigmoid_derivative(a[-1])]\n",
    "                for l in range(len(a) - 2, 0, -1):\n",
    "                    deltas.append(deltas[-1].dot(self.weights[l].T) * self.sigmoid_derivative(a[l]))\n",
    "\n",
    "                # Reverse deltas to match order of layers\n",
    "                deltas.reverse()\n",
    "\n",
    "                # Update weights and biases\n",
    "                for l in range(len(self.weights)):\n",
    "                    layer = np.atleast_2d(a[l])\n",
    "                    delta = np.atleast_2d(deltas[l])\n",
    "                    self.weights[l] += self.learning_rate * layer.T.dot(delta)\n",
    "                    self.biases[l] += self.learning_rate * deltas[l]\n",
    "\n",
    "            if verbose:\n",
    "                print('\\r', end='')\n",
    "\n",
    "    def predict(self, X):\n",
    "        a = X\n",
    "        for l in range(0, len(self.weights)):\n",
    "            a = self.sigmoid(np.dot(a, self.weights[l]) + self.biases[l])\n",
    "        return a"
   ]
  },
  {
   "cell_type": "markdown",
   "metadata": {},
   "source": [
    "Accuracy on Different Train - Test Split Sizes: A helping function that utilizes train_test_split from sklearn to automatically split the dataset. After then; fit, predict, store accuracy. parameters:\n",
    "\n",
    "- s = start of the steps\n",
    "- e = end of the steps\n",
    "- a = stride\n",
    "- X and y = Features and targets.\n",
    "\n",
    "Accuracy of Decision Tree with different maximum depth: A hepling function that allows cross-validation on Decision Trees by varying maximum depth of the tree. Depth range is set from 1 to 10 by default.\n",
    "\n",
    "Artificial Neural Network number of hidden layers are 4, 8, 12 and 16 by default."
   ]
  },
  {
   "cell_type": "code",
   "execution_count": 4,
   "metadata": {},
   "outputs": [],
   "source": [
    "def split_accuracies(s, e, a, X, y):\n",
    "    nn_scores, dte_scores, dti_scores, dtg_scores = [], [], [], []\n",
    "    for i in range(s, e, a):\n",
    "        X_train, X_test, y_train, y_test = train_test_split(X, y, test_size = (100-i)/100, random_state = 0)\n",
    "        nn=NeuralNetwork([X_train.shape[1],8,1])\n",
    "        nn.fit(X_train,y_train, epochs=100, verbose=True)\n",
    "        nn_p=(nn.predict(X_test) > 0.5).astype(int)\n",
    "        dte = DecisionTree()\n",
    "        dte.fit(X_train, y_train, split = \"entropy\")\n",
    "        dte_p = dte.predict(X_test)\n",
    "        dti = DecisionTree()\n",
    "        dti.fit(X_train, y_train, split = \"information_gain\")\n",
    "        dti_p = dti.predict(X_test)\n",
    "        dtg = DecisionTree()\n",
    "        dtg.fit(X_train, y_train, split = \"gini\")\n",
    "        dtg_p = dtg.predict(X_test)\n",
    "        nn_a = accuracy_score(y_test, nn_p)\n",
    "        dte_a = accuracy_score(y_test, dte_p)\n",
    "        dti_a = accuracy_score(y_test, dti_p)\n",
    "        dtg_a = accuracy_score(y_test, dtg_p)\n",
    "        nn_scores.append(nn_a)\n",
    "        dte_scores.append(dte_a)\n",
    "        dti_scores.append(dti_a)\n",
    "        dtg_scores.append(dtg_a)\n",
    "    return nn_scores, dte_scores, dti_scores, dtg_scores\n",
    "\n",
    "def depth_accuracies(X, y):\n",
    "    depth_scores = []\n",
    "    for i in range(1,11):\n",
    "        X_train, X_test, y_train, y_test = train_test_split(X, y, test_size = 0.3, random_state = 0)\n",
    "        dte = DecisionTree()\n",
    "        dte.fit(X_train, y_train, max_depth = i, split = \"entropy\")\n",
    "        dte_p = dte.predict(X_test)\n",
    "        dti = DecisionTree()\n",
    "        dti.fit(X_train, y_train, max_depth = i, split = \"information_gain\")\n",
    "        dti_p = dti.predict(X_test)\n",
    "        dtg = DecisionTree()\n",
    "        dtg.fit(X_train, y_train, max_depth = i, split = \"gini\")\n",
    "        dtg_p = dtg.predict(X_test)\n",
    "        dte_a = accuracy_score(y_test, dte_p)\n",
    "        dti_a = accuracy_score(y_test, dti_p)\n",
    "        dtg_a = accuracy_score(y_test, dtg_p)\n",
    "        depth_scores.append([dte_a, dti_a, dtg_a])\n",
    "    return depth_scores\n",
    "\n",
    "def hidden_layer_nodes(X, y):\n",
    "    acc = []\n",
    "    num_nodes = [4,8,12,16]\n",
    "    for n in num_nodes:\n",
    "        X_train, X_test, y_train, y_test = train_test_split(X, y, test_size = 0.3, random_state = 0)\n",
    "        nn=NeuralNetwork([X_train.shape[1],n,1])\n",
    "        nn.fit(X_train,y_train, epochs=100, verbose=True)\n",
    "        nn_p=(nn.predict(X_test) > 0.5).astype(int)\n",
    "        acc.append(accuracy_score(y_test, nn_p))\n",
    "    return acc\n",
    "\n",
    "def learning_rates(X,y):\n",
    "    acc = []\n",
    "    lrs = [0.0001, 0.001, 0.005, 0.01, 0.05, 0.1]\n",
    "    for lr in lrs:\n",
    "        X_train, X_test, y_train, y_test = train_test_split(X, y, test_size = 0.3, random_state = 0)\n",
    "        nn=NeuralNetwork([X_train.shape[1],8,1], learning_rate=lr)\n",
    "        nn.fit(X_train,y_train, epochs=1000, verbose=True)\n",
    "        nn_p=(nn.predict(X_test) > 0.5).astype(int)\n",
    "        acc.append(accuracy_score(y_test, nn_p))\n",
    "    return acc"
   ]
  },
  {
   "cell_type": "code",
   "execution_count": 5,
   "metadata": {},
   "outputs": [
    {
     "data": {
      "text/html": [
       "<div>\n",
       "<style scoped>\n",
       "    .dataframe tbody tr th:only-of-type {\n",
       "        vertical-align: middle;\n",
       "    }\n",
       "\n",
       "    .dataframe tbody tr th {\n",
       "        vertical-align: top;\n",
       "    }\n",
       "\n",
       "    .dataframe thead th {\n",
       "        text-align: right;\n",
       "    }\n",
       "</style>\n",
       "<table border=\"1\" class=\"dataframe\">\n",
       "  <thead>\n",
       "    <tr style=\"text-align: right;\">\n",
       "      <th></th>\n",
       "      <th>class</th>\n",
       "      <th>cap-shape</th>\n",
       "      <th>cap-surface</th>\n",
       "      <th>cap-color</th>\n",
       "      <th>bruises</th>\n",
       "      <th>odor</th>\n",
       "      <th>gill-attachment</th>\n",
       "      <th>gill-spacing</th>\n",
       "      <th>gill-size</th>\n",
       "      <th>gill-color</th>\n",
       "      <th>...</th>\n",
       "      <th>stalk-surface-above-ring</th>\n",
       "      <th>stalk-surface-below-ring</th>\n",
       "      <th>stalk-color-above-ring</th>\n",
       "      <th>stalk-color-below-ring</th>\n",
       "      <th>veil-color</th>\n",
       "      <th>ring-number</th>\n",
       "      <th>ring-type</th>\n",
       "      <th>spore-print-color</th>\n",
       "      <th>population</th>\n",
       "      <th>habitat</th>\n",
       "    </tr>\n",
       "  </thead>\n",
       "  <tbody>\n",
       "    <tr>\n",
       "      <th>0</th>\n",
       "      <td>1</td>\n",
       "      <td>5</td>\n",
       "      <td>2</td>\n",
       "      <td>4</td>\n",
       "      <td>1</td>\n",
       "      <td>6</td>\n",
       "      <td>1</td>\n",
       "      <td>0</td>\n",
       "      <td>1</td>\n",
       "      <td>4</td>\n",
       "      <td>...</td>\n",
       "      <td>2</td>\n",
       "      <td>2</td>\n",
       "      <td>7</td>\n",
       "      <td>7</td>\n",
       "      <td>2</td>\n",
       "      <td>1</td>\n",
       "      <td>4</td>\n",
       "      <td>2</td>\n",
       "      <td>3</td>\n",
       "      <td>5</td>\n",
       "    </tr>\n",
       "    <tr>\n",
       "      <th>1</th>\n",
       "      <td>0</td>\n",
       "      <td>5</td>\n",
       "      <td>2</td>\n",
       "      <td>9</td>\n",
       "      <td>1</td>\n",
       "      <td>0</td>\n",
       "      <td>1</td>\n",
       "      <td>0</td>\n",
       "      <td>0</td>\n",
       "      <td>4</td>\n",
       "      <td>...</td>\n",
       "      <td>2</td>\n",
       "      <td>2</td>\n",
       "      <td>7</td>\n",
       "      <td>7</td>\n",
       "      <td>2</td>\n",
       "      <td>1</td>\n",
       "      <td>4</td>\n",
       "      <td>3</td>\n",
       "      <td>2</td>\n",
       "      <td>1</td>\n",
       "    </tr>\n",
       "    <tr>\n",
       "      <th>2</th>\n",
       "      <td>0</td>\n",
       "      <td>0</td>\n",
       "      <td>2</td>\n",
       "      <td>8</td>\n",
       "      <td>1</td>\n",
       "      <td>3</td>\n",
       "      <td>1</td>\n",
       "      <td>0</td>\n",
       "      <td>0</td>\n",
       "      <td>5</td>\n",
       "      <td>...</td>\n",
       "      <td>2</td>\n",
       "      <td>2</td>\n",
       "      <td>7</td>\n",
       "      <td>7</td>\n",
       "      <td>2</td>\n",
       "      <td>1</td>\n",
       "      <td>4</td>\n",
       "      <td>3</td>\n",
       "      <td>2</td>\n",
       "      <td>3</td>\n",
       "    </tr>\n",
       "    <tr>\n",
       "      <th>3</th>\n",
       "      <td>1</td>\n",
       "      <td>5</td>\n",
       "      <td>3</td>\n",
       "      <td>8</td>\n",
       "      <td>1</td>\n",
       "      <td>6</td>\n",
       "      <td>1</td>\n",
       "      <td>0</td>\n",
       "      <td>1</td>\n",
       "      <td>5</td>\n",
       "      <td>...</td>\n",
       "      <td>2</td>\n",
       "      <td>2</td>\n",
       "      <td>7</td>\n",
       "      <td>7</td>\n",
       "      <td>2</td>\n",
       "      <td>1</td>\n",
       "      <td>4</td>\n",
       "      <td>2</td>\n",
       "      <td>3</td>\n",
       "      <td>5</td>\n",
       "    </tr>\n",
       "    <tr>\n",
       "      <th>4</th>\n",
       "      <td>0</td>\n",
       "      <td>5</td>\n",
       "      <td>2</td>\n",
       "      <td>3</td>\n",
       "      <td>0</td>\n",
       "      <td>5</td>\n",
       "      <td>1</td>\n",
       "      <td>1</td>\n",
       "      <td>0</td>\n",
       "      <td>4</td>\n",
       "      <td>...</td>\n",
       "      <td>2</td>\n",
       "      <td>2</td>\n",
       "      <td>7</td>\n",
       "      <td>7</td>\n",
       "      <td>2</td>\n",
       "      <td>1</td>\n",
       "      <td>0</td>\n",
       "      <td>3</td>\n",
       "      <td>0</td>\n",
       "      <td>1</td>\n",
       "    </tr>\n",
       "  </tbody>\n",
       "</table>\n",
       "<p>5 rows × 22 columns</p>\n",
       "</div>"
      ],
      "text/plain": [
       "   class  cap-shape  cap-surface  cap-color  bruises  odor  gill-attachment  \\\n",
       "0      1          5            2          4        1     6                1   \n",
       "1      0          5            2          9        1     0                1   \n",
       "2      0          0            2          8        1     3                1   \n",
       "3      1          5            3          8        1     6                1   \n",
       "4      0          5            2          3        0     5                1   \n",
       "\n",
       "   gill-spacing  gill-size  gill-color  ...  stalk-surface-above-ring  \\\n",
       "0             0          1           4  ...                         2   \n",
       "1             0          0           4  ...                         2   \n",
       "2             0          0           5  ...                         2   \n",
       "3             0          1           5  ...                         2   \n",
       "4             1          0           4  ...                         2   \n",
       "\n",
       "   stalk-surface-below-ring  stalk-color-above-ring  stalk-color-below-ring  \\\n",
       "0                         2                       7                       7   \n",
       "1                         2                       7                       7   \n",
       "2                         2                       7                       7   \n",
       "3                         2                       7                       7   \n",
       "4                         2                       7                       7   \n",
       "\n",
       "   veil-color  ring-number  ring-type  spore-print-color  population  habitat  \n",
       "0           2            1          4                  2           3        5  \n",
       "1           2            1          4                  3           2        1  \n",
       "2           2            1          4                  3           2        3  \n",
       "3           2            1          4                  2           3        5  \n",
       "4           2            1          0                  3           0        1  \n",
       "\n",
       "[5 rows x 22 columns]"
      ]
     },
     "execution_count": 5,
     "metadata": {},
     "output_type": "execute_result"
    }
   ],
   "source": [
    "df=pd.read_csv('data-other/mushrooms.csv')\n",
    "labelencoder=LabelEncoder()\n",
    "for column in df.columns:\n",
    "    df[column] = labelencoder.fit_transform(df[column])\n",
    "df = df.drop([\"veil-type\"],axis=1)\n",
    "X = df.drop(['class'], axis=1)\n",
    "y = df['class']\n",
    "X_train, X_test, y_train, y_test = train_test_split(X,y,test_size=0.1)\n",
    "df.head()"
   ]
  },
  {
   "cell_type": "code",
   "execution_count": 6,
   "metadata": {},
   "outputs": [
    {
     "data": {
      "image/png": "[encoded data removed]",
      "text/plain": [
       "<Figure size 432x432 with 1 Axes>"
      ]
     },
     "metadata": {
      "needs_background": "light"
     },
     "output_type": "display_data"
    }
   ],
   "source": [
    "count = df['class'].value_counts()\n",
    "plt.figure(figsize=(6,6))\n",
    "sns.barplot(count.index, count.values)\n",
    "plt.ylabel('Count', fontsize=12)\n",
    "plt.xlabel('Class', fontsize=12)\n",
    "plt.title('Poisonous / Edible')\n",
    "plt.show()"
   ]
  },
  {
   "cell_type": "code",
   "execution_count": 7,
   "metadata": {},
   "outputs": [
    {
     "name": "stdout",
     "output_type": "stream",
     "text": []
    }
   ],
   "source": [
    "X_train, X_test, y_train, y_test = train_test_split(X, y, test_size=0.3)\n",
    "nn=NeuralNetwork([21,8,1])\n",
    "nn.fit(X_train,y_train, epochs=100, verbose=True)\n",
    "nn_p=(nn.predict(X_test) > 0.5).astype(int)\n",
    "dt=DecisionTree()\n",
    "dt.fit(X_train,y_train)\n",
    "dt_p=dt.predict(X_test)"
   ]
  },
  {
   "cell_type": "code",
   "execution_count": 8,
   "metadata": {},
   "outputs": [
    {
     "name": "stdout",
     "output_type": "stream",
     "text": [
      "Decision Tree Classifier report: \n",
      "\n",
      "               precision    recall  f1-score   support\n",
      "\n",
      "           0       0.99      1.00      1.00      1283\n",
      "           1       1.00      0.99      1.00      1155\n",
      "\n",
      "   micro avg       1.00      1.00      1.00      2438\n",
      "   macro avg       1.00      1.00      1.00      2438\n",
      "weighted avg       1.00      1.00      1.00      2438\n",
      "\n",
      "Neural Network (L=8) Classifier report: \n",
      "\n",
      "               precision    recall  f1-score   support\n",
      "\n",
      "           0       1.00      1.00      1.00      1283\n",
      "           1       1.00      1.00      1.00      1155\n",
      "\n",
      "   micro avg       1.00      1.00      1.00      2438\n",
      "   macro avg       1.00      1.00      1.00      2438\n",
      "weighted avg       1.00      1.00      1.00      2438\n",
      "\n"
     ]
    }
   ],
   "source": [
    "print(\"Decision Tree Classifier report: \\n\\n\",classification_report(y_test,dt_p))\n",
    "print(\"Neural Network (L=8) Classifier report: \\n\\n\",classification_report(y_test,nn_p))"
   ]
  },
  {
   "cell_type": "code",
   "execution_count": 9,
   "metadata": {},
   "outputs": [
    {
     "name": "stdout",
     "output_type": "stream",
     "text": []
    }
   ],
   "source": [
    "nn_s, dte_s, dti_s, dtg_s = split_accuracies(65, 100, 5, X, y)"
   ]
  },
  {
   "cell_type": "code",
   "execution_count": 10,
   "metadata": {},
   "outputs": [
    {
     "name": "stdout",
     "output_type": "stream",
     "text": [
      "[1.0, 1.0, 0.9926144756277696, 0.9907692307692307, 0.9991796554552912, 0.982779827798278, 0.9975429975429976]\n",
      "[0.9982419127988749, 0.9995898277276456, 1.0, 1.0, 1.0, 1.0, 1.0]\n",
      "[1.0, 1.0, 1.0, 1.0, 1.0, 1.0, 1.0]\n",
      "[0.9989451476793249, 0.9987694831829368, 0.9985228951255539, 1.0, 1.0, 1.0, 1.0]\n"
     ]
    }
   ],
   "source": [
    "print(nn_s)\n",
    "print(dte_s)\n",
    "print(dti_s)\n",
    "print(dtg_s)"
   ]
  },
  {
   "cell_type": "code",
   "execution_count": 11,
   "metadata": {},
   "outputs": [
    {
     "data": {
      "image/png": "[encoded data removed]",
      "text/plain": [
       "<Figure size 432x432 with 1 Axes>"
      ]
     },
     "metadata": {
      "needs_background": "light"
     },
     "output_type": "display_data"
    }
   ],
   "source": [
    "plt.figure(figsize =(6, 6)) \n",
    "plt.plot([i for i in range(65, 100,5)], nn_s, marker='*', color = 'red', label='NN')\n",
    "plt.plot([i for i in range(65, 100,5)], dte_s, marker='*', color = 'blue', label='DT-E')\n",
    "plt.plot([i for i in range(65, 100,5)], dti_s, marker='*', color = 'green', label='DT-I')\n",
    "plt.plot([i for i in range(65, 100,5)], dtg_s, marker='*', color = 'orange', label='DT-G')\n",
    "plt.legend(bbox_to_anchor=(1.05, 1), loc='upper left', borderaxespad=0.)\n",
    "plt.xlabel('Training Size (%)')\n",
    "plt.xticks(np.arange(65,100,5))\n",
    "plt.ylabel('Accuracy Scores')\n",
    "plt.title('Neural Network vs. Decision Tree scores for different data splits')\n",
    "plt.show()"
   ]
  },
  {
   "cell_type": "code",
   "execution_count": 12,
   "metadata": {},
   "outputs": [],
   "source": [
    "depth_scores = depth_accuracies(X, y)"
   ]
  },
  {
   "cell_type": "code",
   "execution_count": 13,
   "metadata": {},
   "outputs": [
    {
     "name": "stdout",
     "output_type": "stream",
     "text": [
      "[[0.5721903199343724, 0.9864643150123051, 0.9864643150123051], [0.6251025430680885, 0.9950779327317474, 0.9889253486464314], [0.716160787530763, 0.9971287940935193, 0.9934372436423298], [0.8941755537325676, 1.0, 0.9979491386382281], [0.9934372436423298, 1.0, 0.9987694831829368], [0.9934372436423298, 1.0, 0.9987694831829368], [0.9934372436423298, 1.0, 0.9987694831829368], [0.994667760459393, 1.0, 0.9987694831829368], [0.9975389663658737, 1.0, 0.9987694831829368], [0.9975389663658737, 1.0, 0.9987694831829368]]\n"
     ]
    }
   ],
   "source": [
    "print(depth_scores)"
   ]
  },
  {
   "cell_type": "code",
   "execution_count": 15,
   "metadata": {},
   "outputs": [
    {
     "data": {
      "image/png": "[encoded data removed]",
      "text/plain": [
       "<Figure size 432x432 with 1 Axes>"
      ]
     },
     "metadata": {
      "needs_background": "light"
     },
     "output_type": "display_data"
    }
   ],
   "source": [
    "plt.figure(figsize =(6, 6))\n",
    "e,i,g=[],[],[]\n",
    "for d in depth_scores:\n",
    "    e.append(d[0])\n",
    "    i.append(d[1])\n",
    "    g.append(d[2])\n",
    "plt.plot([i for i in range(1,11)], e, marker='*', color = 'blue', label='Accuracy')\n",
    "plt.plot([i for i in range(1,11)], i, marker='*', color = 'green', label='Accuracy')\n",
    "plt.plot([i for i in range(1,11)], g, marker='*', color = 'orange', label='Accuracy')\n",
    "plt.legend(bbox_to_anchor=(1.05, 1), loc='upper left', borderaxespad=0.)\n",
    "plt.xlabel('Max Depths')\n",
    "plt.xticks(np.arange(1,11,1))\n",
    "plt.ylabel('Accuracy Scores')\n",
    "plt.title('Decision Tree Classifier scores for different Max Depths')\n",
    "plt.show()"
   ]
  },
  {
   "cell_type": "code",
   "execution_count": 16,
   "metadata": {},
   "outputs": [
    {
     "name": "stdout",
     "output_type": "stream",
     "text": [
      "[0.5721903199343724, 0.6251025430680885, 0.716160787530763, 0.8941755537325676, 0.9934372436423298, 0.9934372436423298, 0.9934372436423298, 0.994667760459393, 0.9975389663658737, 0.9975389663658737]\n",
      "[0.9864643150123051, 0.9950779327317474, 0.9971287940935193, 1.0, 1.0, 1.0, 1.0, 1.0, 1.0, 1.0]\n",
      "[0.9864643150123051, 0.9889253486464314, 0.9934372436423298, 0.9979491386382281, 0.9987694831829368, 0.9987694831829368, 0.9987694831829368, 0.9987694831829368, 0.9987694831829368, 0.9987694831829368]\n"
     ]
    }
   ],
   "source": [
    "print(e)\n",
    "print(i)\n",
    "print(g)"
   ]
  },
  {
   "cell_type": "code",
   "execution_count": 17,
   "metadata": {},
   "outputs": [
    {
     "name": "stdout",
     "output_type": "stream",
     "text": []
    }
   ],
   "source": [
    "nn_scores = hidden_layer_nodes(X, y)"
   ]
  },
  {
   "cell_type": "code",
   "execution_count": 18,
   "metadata": {},
   "outputs": [
    {
     "name": "stdout",
     "output_type": "stream",
     "text": [
      "[0.9934372436423298, 0.9991796554552912, 1.0, 1.0]\n"
     ]
    }
   ],
   "source": [
    "print(nn_scores)"
   ]
  },
  {
   "cell_type": "code",
   "execution_count": 19,
   "metadata": {},
   "outputs": [
    {
     "data": {
      "image/png": "[encoded data removed]",
      "text/plain": [
       "<Figure size 432x432 with 1 Axes>"
      ]
     },
     "metadata": {
      "needs_background": "light"
     },
     "output_type": "display_data"
    }
   ],
   "source": [
    "plt.figure(figsize =(6, 6)) \n",
    "plt.plot([i for i in [4,8,12,16]], nn_scores, marker='*', color = 'red', label='Accuracy')\n",
    "plt.legend(bbox_to_anchor=(1.05, 1), loc='upper left', borderaxespad=0.)\n",
    "plt.xlabel('Max Depths')\n",
    "plt.xticks([4,8,12,16])\n",
    "plt.ylabel('Accuracy Scores')\n",
    "plt.title('Neural Network scores for different L values')\n",
    "plt.show()"
   ]
  },
  {
   "cell_type": "code",
   "execution_count": 20,
   "metadata": {},
   "outputs": [
    {
     "name": "stdout",
     "output_type": "stream",
     "text": []
    }
   ],
   "source": [
    "nn_scores = learning_rates(X, y)"
   ]
  },
  {
   "cell_type": "code",
   "execution_count": 21,
   "metadata": {},
   "outputs": [
    {
     "name": "stdout",
     "output_type": "stream",
     "text": [
      "[0.9356029532403609, 0.9745693191140279, 0.9934372436423298, 0.9991796554552912, 1.0, 0.9991796554552912]\n"
     ]
    }
   ],
   "source": [
    "print(nn_scores)"
   ]
  },
  {
   "cell_type": "code",
   "execution_count": 22,
   "metadata": {},
   "outputs": [
    {
     "data": {
      "image/png": "[encoded data removed]",
      "text/plain": [
       "<Figure size 432x432 with 1 Axes>"
      ]
     },
     "metadata": {
      "needs_background": "light"
     },
     "output_type": "display_data"
    }
   ],
   "source": [
    "plt.figure(figsize =(6, 6)) \n",
    "plt.plot([i for i in range(6)], nn_scores, marker='*', color = 'red', label='Accuracy')\n",
    "plt.legend(bbox_to_anchor=(1.05, 1), loc='upper left', borderaxespad=0.)\n",
    "plt.xlabel('Max Depths')\n",
    "plt.xticks([0.0001, 0.001, 0.005, 0.01, 0.05, 0.1])\n",
    "plt.ylabel('Accuracy Scores')\n",
    "plt.title('Neural Network scores for different L values')\n",
    "plt.show()"
   ]
  },
  {
   "cell_type": "code",
   "execution_count": 23,
   "metadata": {},
   "outputs": [
    {
     "data": {
      "text/html": [
       "<div>\n",
       "<style scoped>\n",
       "    .dataframe tbody tr th:only-of-type {\n",
       "        vertical-align: middle;\n",
       "    }\n",
       "\n",
       "    .dataframe tbody tr th {\n",
       "        vertical-align: top;\n",
       "    }\n",
       "\n",
       "    .dataframe thead th {\n",
       "        text-align: right;\n",
       "    }\n",
       "</style>\n",
       "<table border=\"1\" class=\"dataframe\">\n",
       "  <thead>\n",
       "    <tr style=\"text-align: right;\">\n",
       "      <th></th>\n",
       "      <th>satisfaction_level</th>\n",
       "      <th>last_evaluation</th>\n",
       "      <th>number_project</th>\n",
       "      <th>average_montly_hours</th>\n",
       "      <th>time_spend_company</th>\n",
       "      <th>Work_accident</th>\n",
       "      <th>class</th>\n",
       "      <th>promotion_last_5years</th>\n",
       "      <th>sales</th>\n",
       "      <th>salary</th>\n",
       "    </tr>\n",
       "  </thead>\n",
       "  <tbody>\n",
       "    <tr>\n",
       "      <th>0</th>\n",
       "      <td>0.10</td>\n",
       "      <td>0.90</td>\n",
       "      <td>7</td>\n",
       "      <td>286</td>\n",
       "      <td>4</td>\n",
       "      <td>0</td>\n",
       "      <td>1</td>\n",
       "      <td>0</td>\n",
       "      <td>sales</td>\n",
       "      <td>low</td>\n",
       "    </tr>\n",
       "    <tr>\n",
       "      <th>1</th>\n",
       "      <td>0.89</td>\n",
       "      <td>0.93</td>\n",
       "      <td>4</td>\n",
       "      <td>249</td>\n",
       "      <td>3</td>\n",
       "      <td>0</td>\n",
       "      <td>0</td>\n",
       "      <td>0</td>\n",
       "      <td>sales</td>\n",
       "      <td>low</td>\n",
       "    </tr>\n",
       "    <tr>\n",
       "      <th>2</th>\n",
       "      <td>0.38</td>\n",
       "      <td>0.50</td>\n",
       "      <td>2</td>\n",
       "      <td>132</td>\n",
       "      <td>3</td>\n",
       "      <td>0</td>\n",
       "      <td>1</td>\n",
       "      <td>0</td>\n",
       "      <td>accounting</td>\n",
       "      <td>low</td>\n",
       "    </tr>\n",
       "    <tr>\n",
       "      <th>3</th>\n",
       "      <td>0.95</td>\n",
       "      <td>0.71</td>\n",
       "      <td>4</td>\n",
       "      <td>151</td>\n",
       "      <td>4</td>\n",
       "      <td>0</td>\n",
       "      <td>0</td>\n",
       "      <td>0</td>\n",
       "      <td>sales</td>\n",
       "      <td>medium</td>\n",
       "    </tr>\n",
       "    <tr>\n",
       "      <th>4</th>\n",
       "      <td>0.84</td>\n",
       "      <td>0.84</td>\n",
       "      <td>5</td>\n",
       "      <td>163</td>\n",
       "      <td>3</td>\n",
       "      <td>0</td>\n",
       "      <td>0</td>\n",
       "      <td>0</td>\n",
       "      <td>technical</td>\n",
       "      <td>low</td>\n",
       "    </tr>\n",
       "  </tbody>\n",
       "</table>\n",
       "</div>"
      ],
      "text/plain": [
       "   satisfaction_level  last_evaluation  number_project  average_montly_hours  \\\n",
       "0                0.10             0.90               7                   286   \n",
       "1                0.89             0.93               4                   249   \n",
       "2                0.38             0.50               2                   132   \n",
       "3                0.95             0.71               4                   151   \n",
       "4                0.84             0.84               5                   163   \n",
       "\n",
       "   time_spend_company  Work_accident  class  promotion_last_5years  \\\n",
       "0                   4              0      1                      0   \n",
       "1                   3              0      0                      0   \n",
       "2                   3              0      1                      0   \n",
       "3                   4              0      0                      0   \n",
       "4                   3              0      0                      0   \n",
       "\n",
       "        sales  salary  \n",
       "0       sales     low  \n",
       "1       sales     low  \n",
       "2  accounting     low  \n",
       "3       sales  medium  \n",
       "4   technical     low  "
      ]
     },
     "execution_count": 23,
     "metadata": {},
     "output_type": "execute_result"
    }
   ],
   "source": [
    "df = pd.read_csv('data-other/data.csv')\n",
    "df = df.rename(columns={'left': 'class'})\n",
    "df.head()"
   ]
  },
  {
   "cell_type": "code",
   "execution_count": 24,
   "metadata": {},
   "outputs": [],
   "source": [
    "labelencoder=LabelEncoder()\n",
    "for column in df.columns:\n",
    "    df[column] = labelencoder.fit_transform(df[column])\n",
    "X = df.drop(['class'], axis=1)\n",
    "y = df['class']\n",
    "X_train, X_test, y_train, y_test = train_test_split(X, y, random_state=42, test_size=0.3)"
   ]
  },
  {
   "cell_type": "code",
   "execution_count": 26,
   "metadata": {},
   "outputs": [
    {
     "name": "stdout",
     "output_type": "stream",
     "text": []
    }
   ],
   "source": [
    "nn=NeuralNetwork([9,8,1])\n",
    "nn.fit(X_train,y_train, epochs=100, verbose=True)\n",
    "nn_p=(nn.predict(X_test) > 0.5).astype(int)\n",
    "dt=DecisionTree()\n",
    "dt.fit(X_train,y_train)\n",
    "dt_p=dt.predict(X_test)"
   ]
  },
  {
   "cell_type": "code",
   "execution_count": 27,
   "metadata": {},
   "outputs": [
    {
     "name": "stdout",
     "output_type": "stream",
     "text": [
      "Decision Tree Classifier report: \n",
      "\n",
      "               precision    recall  f1-score   support\n",
      "\n",
      "           0       0.94      0.98      0.96      2544\n",
      "           1       0.92      0.81      0.86       828\n",
      "\n",
      "   micro avg       0.94      0.94      0.94      3372\n",
      "   macro avg       0.93      0.89      0.91      3372\n",
      "weighted avg       0.94      0.94      0.94      3372\n",
      "\n",
      "Neural Network (L=8) Classifier report: \n",
      "\n",
      "               precision    recall  f1-score   support\n",
      "\n",
      "           0       0.75      1.00      0.86      2544\n",
      "           1       0.00      0.00      0.00       828\n",
      "\n",
      "   micro avg       0.75      0.75      0.75      3372\n",
      "   macro avg       0.38      0.50      0.43      3372\n",
      "weighted avg       0.57      0.75      0.65      3372\n",
      "\n"
     ]
    },
    {
     "name": "stderr",
     "output_type": "stream",
     "text": [
      "C:\\Users\\slm\\Anaconda3\\lib\\site-packages\\sklearn\\metrics\\classification.py:1143: UndefinedMetricWarning: Precision and F-score are ill-defined and being set to 0.0 in labels with no predicted samples.\n",
      "  'precision', 'predicted', average, warn_for)\n",
      "C:\\Users\\slm\\Anaconda3\\lib\\site-packages\\sklearn\\metrics\\classification.py:1143: UndefinedMetricWarning: Precision and F-score are ill-defined and being set to 0.0 in labels with no predicted samples.\n",
      "  'precision', 'predicted', average, warn_for)\n",
      "C:\\Users\\slm\\Anaconda3\\lib\\site-packages\\sklearn\\metrics\\classification.py:1143: UndefinedMetricWarning: Precision and F-score are ill-defined and being set to 0.0 in labels with no predicted samples.\n",
      "  'precision', 'predicted', average, warn_for)\n"
     ]
    }
   ],
   "source": [
    "print(\"Decision Tree Classifier report: \\n\\n\",classification_report(y_test,dt_p))\n",
    "print(\"Neural Network (L=8) Classifier report: \\n\\n\",classification_report(y_test,nn_p))"
   ]
  },
  {
   "cell_type": "code",
   "execution_count": 28,
   "metadata": {},
   "outputs": [
    {
     "name": "stdout",
     "output_type": "stream",
     "text": []
    }
   ],
   "source": [
    "nn_s, dte_s, dti_s, dtg_s = split_accuracies(65, 100, 5, X, y)"
   ]
  },
  {
   "cell_type": "code",
   "execution_count": 29,
   "metadata": {},
   "outputs": [
    {
     "name": "stdout",
     "output_type": "stream",
     "text": [
      "[0.7686832740213523, 0.7704626334519573, 0.7722419928825622, 0.7651245551601423, 0.7591933570581257, 0.7491103202846975, 0.7295373665480427]\n",
      "[0.9412811387900356, 0.9451364175563464, 0.9476868327402135, 0.9466192170818505, 0.9525504151838672, 0.9537366548042705, 0.9501779359430605]\n",
      "[0.9273004575495679, 0.9291221826809015, 0.9419928825622775, 0.9417259786476868, 0.9507710557532622, 0.952846975088968, 0.9412811387900356]\n",
      "[0.9214539908490087, 0.92497034400949, 0.9327402135231316, 0.9297153024911032, 0.9418742586002372, 0.9403914590747331, 0.9252669039145908]\n"
     ]
    }
   ],
   "source": [
    "print(nn_s)\n",
    "print(dte_s)\n",
    "print(dti_s)\n",
    "print(dtg_s)"
   ]
  },
  {
   "cell_type": "code",
   "execution_count": 30,
   "metadata": {},
   "outputs": [
    {
     "data": {
      "image/png": "[encoded data removed]",
      "text/plain": [
       "<Figure size 432x432 with 1 Axes>"
      ]
     },
     "metadata": {
      "needs_background": "light"
     },
     "output_type": "display_data"
    }
   ],
   "source": [
    "plt.figure(figsize =(6, 6)) \n",
    "plt.plot([i for i in range(65, 100,5)], nn_s, marker='*', color = 'red', label='NN')\n",
    "plt.plot([i for i in range(65, 100,5)], dte_s, marker='*', color = 'blue', label='DT-E')\n",
    "plt.plot([i for i in range(65, 100,5)], dti_s, marker='*', color = 'green', label='DT-I')\n",
    "plt.plot([i for i in range(65, 100,5)], dtg_s, marker='*', color = 'orange', label='DT-G')\n",
    "plt.legend(bbox_to_anchor=(1.05, 1), loc='upper left', borderaxespad=0.)\n",
    "plt.xlabel('Training Size (%)')\n",
    "plt.xticks(np.arange(65,100,5))\n",
    "plt.ylabel('Accuracy Scores')\n",
    "plt.title('Neural Network vs. Decision Tree scores for different data splits')\n",
    "plt.show()"
   ]
  },
  {
   "cell_type": "code",
   "execution_count": 31,
   "metadata": {},
   "outputs": [],
   "source": [
    "depth_scores = depth_accuracies(X, y)"
   ]
  },
  {
   "cell_type": "code",
   "execution_count": 32,
   "metadata": {},
   "outputs": [
    {
     "name": "stdout",
     "output_type": "stream",
     "text": [
      "[[0.8997627520759194, 0.8997627520759194, 0.8997627520759194], [0.9205219454329775, 0.9163701067615658, 0.91073546856465], [0.9460260972716489, 0.9291221826809015, 0.92497034400949], [0.9451364175563464, 0.9291221826809015, 0.92497034400949], [0.9451364175563464, 0.9291221826809015, 0.92497034400949], [0.9451364175563464, 0.9291221826809015, 0.92497034400949], [0.9451364175563464, 0.9291221826809015, 0.92497034400949], [0.9451364175563464, 0.9291221826809015, 0.92497034400949], [0.9451364175563464, 0.9291221826809015, 0.92497034400949], [0.9451364175563464, 0.9291221826809015, 0.92497034400949]]\n"
     ]
    }
   ],
   "source": [
    "print(depth_scores)"
   ]
  },
  {
   "cell_type": "code",
   "execution_count": 34,
   "metadata": {},
   "outputs": [
    {
     "data": {
      "image/png": "[encoded data removed]",
      "text/plain": [
       "<Figure size 432x432 with 1 Axes>"
      ]
     },
     "metadata": {
      "needs_background": "light"
     },
     "output_type": "display_data"
    }
   ],
   "source": [
    "plt.figure(figsize =(6, 6))\n",
    "e,i,g=[],[],[]\n",
    "for d in depth_scores:\n",
    "    e.append(d[0])\n",
    "    i.append(d[1])\n",
    "    g.append(d[2])\n",
    "plt.plot([i for i in range(1,11)], e, marker='*', color = 'blue', label='Accuracy')\n",
    "plt.plot([i for i in range(1,11)], i, marker='*', color = 'green', label='Accuracy')\n",
    "plt.plot([i for i in range(1,11)], g, marker='*', color = 'orange', label='Accuracy')\n",
    "plt.legend(bbox_to_anchor=(1.05, 1), loc='upper left', borderaxespad=0.)\n",
    "plt.xlabel('Max Depths')\n",
    "plt.xticks(np.arange(1,11,1))\n",
    "plt.ylabel('Accuracy Scores')\n",
    "plt.title('Decision Tree Classifier scores for different Max Depths')\n",
    "plt.show()"
   ]
  },
  {
   "cell_type": "code",
   "execution_count": 35,
   "metadata": {},
   "outputs": [
    {
     "name": "stdout",
     "output_type": "stream",
     "text": [
      "Epoch: 20/100"
     ]
    },
    {
     "name": "stderr",
     "output_type": "stream",
     "text": [
      "C:\\Users\\slm\\Anaconda3\\lib\\site-packages\\ipykernel_launcher.py:12: RuntimeWarning: overflow encountered in exp\n",
      "  if sys.path[0] == '':\n"
     ]
    },
    {
     "name": "stdout",
     "output_type": "stream",
     "text": []
    }
   ],
   "source": [
    "nn_scores = hidden_layer_nodes(X, y)"
   ]
  },
  {
   "cell_type": "code",
   "execution_count": 36,
   "metadata": {},
   "outputs": [
    {
     "name": "stdout",
     "output_type": "stream",
     "text": [
      "[0.7704626334519573, 0.7704626334519573, 0.7701660735468565, 0.7704626334519573]\n"
     ]
    }
   ],
   "source": [
    "print(nn_scores)"
   ]
  },
  {
   "cell_type": "code",
   "execution_count": 37,
   "metadata": {},
   "outputs": [
    {
     "data": {
      "image/png": "[encoded data removed]",
      "text/plain": [
       "<Figure size 432x432 with 1 Axes>"
      ]
     },
     "metadata": {
      "needs_background": "light"
     },
     "output_type": "display_data"
    }
   ],
   "source": [
    "plt.figure(figsize =(6, 6)) \n",
    "plt.plot([i for i in [4,8,12,16]], nn_scores, marker='*', color = 'red', label='Accuracy')\n",
    "plt.legend(bbox_to_anchor=(1.05, 1), loc='upper left', borderaxespad=0.)\n",
    "plt.xlabel('Max Depths')\n",
    "plt.xticks([4,8,12,16])\n",
    "plt.ylabel('Accuracy Scores')\n",
    "plt.title('Neural Network scores for different L values')\n",
    "plt.show()"
   ]
  },
  {
   "cell_type": "code",
   "execution_count": 38,
   "metadata": {},
   "outputs": [
    {
     "name": "stdout",
     "output_type": "stream",
     "text": [
      "Epoch: 75/1000"
     ]
    },
    {
     "name": "stderr",
     "output_type": "stream",
     "text": [
      "C:\\Users\\slm\\Anaconda3\\lib\\site-packages\\ipykernel_launcher.py:12: RuntimeWarning: overflow encountered in exp\n",
      "  if sys.path[0] == '':\n"
     ]
    },
    {
     "name": "stdout",
     "output_type": "stream",
     "text": []
    }
   ],
   "source": [
    "nn_scores = learning_rates(X, y)"
   ]
  },
  {
   "cell_type": "code",
   "execution_count": 39,
   "metadata": {},
   "outputs": [
    {
     "name": "stdout",
     "output_type": "stream",
     "text": [
      "[0.7704626334519573, 0.9486951364175563, 0.9074733096085409, 0.8380782918149466, 0.7704626334519573, 0.7704626334519573]\n"
     ]
    }
   ],
   "source": [
    "print(nn_scores)"
   ]
  },
  {
   "cell_type": "code",
   "execution_count": 40,
   "metadata": {},
   "outputs": [
    {
     "data": {
      "image/png": "[encoded data removed]",
      "text/plain": [
       "<Figure size 432x432 with 1 Axes>"
      ]
     },
     "metadata": {
      "needs_background": "light"
     },
     "output_type": "display_data"
    }
   ],
   "source": [
    "plt.figure(figsize =(6, 6)) \n",
    "plt.plot([i for i in range(6)], nn_scores, marker='*', color = 'red', label='Accuracy')\n",
    "plt.legend(bbox_to_anchor=(1.05, 1), loc='upper left', borderaxespad=0.)\n",
    "plt.xlabel('Max Depths')\n",
    "plt.xticks([0.0001, 0.001, 0.005, 0.01, 0.05, 0.1])\n",
    "plt.ylabel('Accuracy Scores')\n",
    "plt.title('Neural Network scores for different L values')\n",
    "plt.show()"
   ]
  },
  {
   "cell_type": "code",
   "execution_count": 41,
   "metadata": {},
   "outputs": [
    {
     "data": {
      "text/html": [
       "<div>\n",
       "<style scoped>\n",
       "    .dataframe tbody tr th:only-of-type {\n",
       "        vertical-align: middle;\n",
       "    }\n",
       "\n",
       "    .dataframe tbody tr th {\n",
       "        vertical-align: top;\n",
       "    }\n",
       "\n",
       "    .dataframe thead th {\n",
       "        text-align: right;\n",
       "    }\n",
       "</style>\n",
       "<table border=\"1\" class=\"dataframe\">\n",
       "  <thead>\n",
       "    <tr style=\"text-align: right;\">\n",
       "      <th></th>\n",
       "      <th>variance</th>\n",
       "      <th>skewness</th>\n",
       "      <th>curtosis</th>\n",
       "      <th>entropy</th>\n",
       "      <th>class</th>\n",
       "    </tr>\n",
       "  </thead>\n",
       "  <tbody>\n",
       "    <tr>\n",
       "      <th>0</th>\n",
       "      <td>3.62160</td>\n",
       "      <td>8.6661</td>\n",
       "      <td>-2.8073</td>\n",
       "      <td>-0.44699</td>\n",
       "      <td>0</td>\n",
       "    </tr>\n",
       "    <tr>\n",
       "      <th>1</th>\n",
       "      <td>4.54590</td>\n",
       "      <td>8.1674</td>\n",
       "      <td>-2.4586</td>\n",
       "      <td>-1.46210</td>\n",
       "      <td>0</td>\n",
       "    </tr>\n",
       "    <tr>\n",
       "      <th>2</th>\n",
       "      <td>3.86600</td>\n",
       "      <td>-2.6383</td>\n",
       "      <td>1.9242</td>\n",
       "      <td>0.10645</td>\n",
       "      <td>0</td>\n",
       "    </tr>\n",
       "    <tr>\n",
       "      <th>3</th>\n",
       "      <td>3.45660</td>\n",
       "      <td>9.5228</td>\n",
       "      <td>-4.0112</td>\n",
       "      <td>-3.59440</td>\n",
       "      <td>0</td>\n",
       "    </tr>\n",
       "    <tr>\n",
       "      <th>4</th>\n",
       "      <td>0.32924</td>\n",
       "      <td>-4.4552</td>\n",
       "      <td>4.5718</td>\n",
       "      <td>-0.98880</td>\n",
       "      <td>0</td>\n",
       "    </tr>\n",
       "  </tbody>\n",
       "</table>\n",
       "</div>"
      ],
      "text/plain": [
       "   variance  skewness  curtosis  entropy  class\n",
       "0   3.62160    8.6661   -2.8073 -0.44699      0\n",
       "1   4.54590    8.1674   -2.4586 -1.46210      0\n",
       "2   3.86600   -2.6383    1.9242  0.10645      0\n",
       "3   3.45660    9.5228   -4.0112 -3.59440      0\n",
       "4   0.32924   -4.4552    4.5718 -0.98880      0"
      ]
     },
     "execution_count": 41,
     "metadata": {},
     "output_type": "execute_result"
    }
   ],
   "source": [
    "df = pd.read_csv('data/banknote.csv')\n",
    "df = df.rename(columns={'class': 'class'})\n",
    "df.head()"
   ]
  },
  {
   "cell_type": "code",
   "execution_count": 42,
   "metadata": {},
   "outputs": [
    {
     "data": {
      "text/plain": [
       "<matplotlib.axes._subplots.AxesSubplot at 0x2738ec88208>"
      ]
     },
     "execution_count": 42,
     "metadata": {},
     "output_type": "execute_result"
    },
    {
     "data": {
      "image/png": "[encoded data removed]",
      "text/plain": [
       "<Figure size 432x360 with 2 Axes>"
      ]
     },
     "metadata": {
      "needs_background": "light"
     },
     "output_type": "display_data"
    }
   ],
   "source": [
    "correlations = df.drop(columns=['class']).corr()\n",
    "plt.figure(figsize=(6,5))\n",
    "sns.heatmap(correlations,cmap='summer')"
   ]
  },
  {
   "cell_type": "code",
   "execution_count": 43,
   "metadata": {},
   "outputs": [
    {
     "name": "stdout",
     "output_type": "stream",
     "text": [
      "0    762\n",
      "1    610\n",
      "Name: class, dtype: int64\n"
     ]
    },
    {
     "data": {
      "image/png": "[encoded data removed]",
      "text/plain": [
       "<Figure size 432x432 with 1 Axes>"
      ]
     },
     "metadata": {
      "needs_background": "light"
     },
     "output_type": "display_data"
    }
   ],
   "source": [
    "print(df['class'].value_counts())\n",
    "count = df['class'].value_counts()\n",
    "plt.figure(figsize=(6,6))\n",
    "sns.barplot(count.index, count.values)\n",
    "plt.ylabel('Count', fontsize=12)\n",
    "plt.xlabel('Class', fontsize=12)\n",
    "plt.title('Fake / Real')\n",
    "plt.show()"
   ]
  },
  {
   "cell_type": "code",
   "execution_count": 44,
   "metadata": {},
   "outputs": [],
   "source": [
    "labelencoder=LabelEncoder()\n",
    "for column in df.columns:\n",
    "    df[column] = labelencoder.fit_transform(df[column])\n",
    "X = df.drop(['class'], axis=1)\n",
    "y = df['class']\n",
    "X_train, X_test, y_train, y_test = train_test_split(X, y, random_state=42, test_size=0.3)"
   ]
  },
  {
   "cell_type": "code",
   "execution_count": 45,
   "metadata": {},
   "outputs": [
    {
     "name": "stdout",
     "output_type": "stream",
     "text": [
      "Epoch: 1/100"
     ]
    },
    {
     "name": "stderr",
     "output_type": "stream",
     "text": [
      "C:\\Users\\slm\\Anaconda3\\lib\\site-packages\\ipykernel_launcher.py:12: RuntimeWarning: overflow encountered in exp\n",
      "  if sys.path[0] == '':\n"
     ]
    },
    {
     "name": "stdout",
     "output_type": "stream",
     "text": []
    }
   ],
   "source": [
    "nn=NeuralNetwork([X.shape[1],8,1])\n",
    "nn.fit(X_train,y_train, epochs=100, verbose=True)\n",
    "nn_p=(nn.predict(X_test) > 0.5).astype(int)\n",
    "dt=DecisionTree()\n",
    "dt.fit(X_train,y_train)\n",
    "dt_p=dt.predict(X_test)"
   ]
  },
  {
   "cell_type": "code",
   "execution_count": 46,
   "metadata": {},
   "outputs": [
    {
     "name": "stdout",
     "output_type": "stream",
     "text": [
      "Decision Tree Classifier report: \n",
      "\n",
      "               precision    recall  f1-score   support\n",
      "\n",
      "           0       0.56      1.00      0.72       229\n",
      "           1       1.00      0.01      0.01       183\n",
      "\n",
      "   micro avg       0.56      0.56      0.56       412\n",
      "   macro avg       0.78      0.50      0.36       412\n",
      "weighted avg       0.75      0.56      0.40       412\n",
      "\n",
      "Neural Network (L=8) Classifier report: \n",
      "\n",
      "               precision    recall  f1-score   support\n",
      "\n",
      "           0       0.68      0.97      0.80       229\n",
      "           1       0.92      0.44      0.59       183\n",
      "\n",
      "   micro avg       0.73      0.73      0.73       412\n",
      "   macro avg       0.80      0.70      0.70       412\n",
      "weighted avg       0.79      0.73      0.71       412\n",
      "\n"
     ]
    }
   ],
   "source": [
    "print(\"Decision Tree Classifier report: \\n\\n\",classification_report(y_test,dt_p))\n",
    "print(\"Neural Network (L=8) Classifier report: \\n\\n\",classification_report(y_test,nn_p))"
   ]
  },
  {
   "cell_type": "code",
   "execution_count": 47,
   "metadata": {},
   "outputs": [
    {
     "name": "stdout",
     "output_type": "stream",
     "text": [
      "Epoch: 1/100"
     ]
    },
    {
     "name": "stderr",
     "output_type": "stream",
     "text": [
      "C:\\Users\\slm\\Anaconda3\\lib\\site-packages\\ipykernel_launcher.py:12: RuntimeWarning: overflow encountered in exp\n",
      "  if sys.path[0] == '':\n"
     ]
    },
    {
     "name": "stdout",
     "output_type": "stream",
     "text": []
    }
   ],
   "source": [
    "nn_s, dte_s, dti_s, dtg_s = split_accuracies(65, 100, 5, X, y)"
   ]
  },
  {
   "cell_type": "code",
   "execution_count": 48,
   "metadata": {},
   "outputs": [
    {
     "name": "stdout",
     "output_type": "stream",
     "text": [
      "[0.5717255717255717, 0.5631067961165048, 0.685131195335277, 0.7454545454545455, 0.5679611650485437, 0.6159420289855072, 0.6086956521739131]\n",
      "[0.5613305613305614, 0.5631067961165048, 0.5685131195335277, 0.5709090909090909, 0.5776699029126213, 0.5652173913043478, 0.5507246376811594]\n",
      "[0.5613305613305614, 0.5631067961165048, 0.5685131195335277, 0.5709090909090909, 0.5776699029126213, 0.5652173913043478, 0.5507246376811594]\n",
      "[0.5613305613305614, 0.5631067961165048, 0.5685131195335277, 0.5709090909090909, 0.5776699029126213, 0.5652173913043478, 0.5507246376811594]\n"
     ]
    }
   ],
   "source": [
    "print(nn_s)\n",
    "print(dte_s)\n",
    "print(dti_s)\n",
    "print(dtg_s)"
   ]
  },
  {
   "cell_type": "code",
   "execution_count": 49,
   "metadata": {},
   "outputs": [
    {
     "data": {
      "image/png": "[encoded data removed]",
      "text/plain": [
       "<Figure size 432x432 with 1 Axes>"
      ]
     },
     "metadata": {
      "needs_background": "light"
     },
     "output_type": "display_data"
    }
   ],
   "source": [
    "plt.figure(figsize =(6, 6)) \n",
    "plt.plot([i for i in range(65, 100,5)], nn_s, marker='*', color = 'red', label='NN')\n",
    "plt.plot([i for i in range(65, 100,5)], dte_s, marker='*', color = 'blue', label='DT-E')\n",
    "plt.plot([i for i in range(65, 100,5)], dti_s, marker='*', color = 'green', label='DT-I')\n",
    "plt.plot([i for i in range(65, 100,5)], dtg_s, marker='*', color = 'orange', label='DT-G')\n",
    "plt.legend(bbox_to_anchor=(1.05, 1), loc='upper left', borderaxespad=0.)\n",
    "plt.xlabel('Training Size (%)')\n",
    "plt.xticks(np.arange(65,100,5))\n",
    "plt.ylabel('Accuracy Scores')\n",
    "plt.title('Neural Network vs. Decision Tree scores for different data splits')\n",
    "plt.show()"
   ]
  },
  {
   "cell_type": "code",
   "execution_count": 50,
   "metadata": {},
   "outputs": [],
   "source": [
    "depth_scores = depth_accuracies(X, y)"
   ]
  },
  {
   "cell_type": "code",
   "execution_count": 51,
   "metadata": {},
   "outputs": [
    {
     "name": "stdout",
     "output_type": "stream",
     "text": [
      "[[0.5631067961165048, 0.5631067961165048, 0.5631067961165048], [0.5631067961165048, 0.5631067961165048, 0.5631067961165048], [0.5631067961165048, 0.5631067961165048, 0.5631067961165048], [0.5631067961165048, 0.5631067961165048, 0.5631067961165048], [0.5631067961165048, 0.5631067961165048, 0.5631067961165048], [0.5631067961165048, 0.5631067961165048, 0.5631067961165048], [0.5631067961165048, 0.5631067961165048, 0.5631067961165048], [0.5631067961165048, 0.5631067961165048, 0.5631067961165048], [0.5631067961165048, 0.5631067961165048, 0.5631067961165048], [0.5631067961165048, 0.5631067961165048, 0.5631067961165048]]\n"
     ]
    }
   ],
   "source": [
    "print(depth_scores)"
   ]
  },
  {
   "cell_type": "code",
   "execution_count": 53,
   "metadata": {},
   "outputs": [
    {
     "data": {
      "image/png": "[encoded data removed]",
      "text/plain": [
       "<Figure size 432x432 with 1 Axes>"
      ]
     },
     "metadata": {
      "needs_background": "light"
     },
     "output_type": "display_data"
    }
   ],
   "source": [
    "plt.figure(figsize =(6, 6))\n",
    "e,i,g=[],[],[]\n",
    "for d in depth_scores:\n",
    "    e.append(d[0])\n",
    "    i.append(d[1])\n",
    "    g.append(d[2])\n",
    "plt.plot([i for i in range(1,11)], e, marker='*', color = 'blue', label='Accuracy')\n",
    "plt.plot([i for i in range(1,11)], i, marker='*', color = 'green', label='Accuracy')\n",
    "plt.plot([i for i in range(1,11)], g, marker='*', color = 'orange', label='Accuracy')\n",
    "plt.legend(bbox_to_anchor=(1.05, 1), loc='upper left', borderaxespad=0.)\n",
    "plt.xlabel('Max Depths')\n",
    "plt.xticks(np.arange(1,11,1))\n",
    "plt.ylabel('Accuracy Scores')\n",
    "plt.title('Decision Tree Classifier scores for different Max Depths')\n",
    "plt.show()"
   ]
  },
  {
   "cell_type": "code",
   "execution_count": 54,
   "metadata": {},
   "outputs": [
    {
     "name": "stdout",
     "output_type": "stream",
     "text": [
      "Epoch: 1/100"
     ]
    },
    {
     "name": "stderr",
     "output_type": "stream",
     "text": [
      "C:\\Users\\slm\\Anaconda3\\lib\\site-packages\\ipykernel_launcher.py:12: RuntimeWarning: overflow encountered in exp\n",
      "  if sys.path[0] == '':\n"
     ]
    },
    {
     "name": "stdout",
     "output_type": "stream",
     "text": []
    }
   ],
   "source": [
    "nn_scores = hidden_layer_nodes(X, y)"
   ]
  },
  {
   "cell_type": "code",
   "execution_count": 55,
   "metadata": {},
   "outputs": [
    {
     "name": "stdout",
     "output_type": "stream",
     "text": [
      "[0.5631067961165048, 0.6140776699029126, 0.662621359223301, 0.6432038834951457]\n"
     ]
    }
   ],
   "source": [
    "print(nn_scores)"
   ]
  },
  {
   "cell_type": "code",
   "execution_count": 56,
   "metadata": {},
   "outputs": [
    {
     "data": {
      "image/png": "[encoded data removed]",
      "text/plain": [
       "<Figure size 432x432 with 1 Axes>"
      ]
     },
     "metadata": {
      "needs_background": "light"
     },
     "output_type": "display_data"
    }
   ],
   "source": [
    "plt.figure(figsize =(6, 6)) \n",
    "plt.plot([i for i in [4,8,12,16]], nn_scores, marker='*', color = 'red', label='Accuracy')\n",
    "plt.legend(bbox_to_anchor=(1.05, 1), loc='upper left', borderaxespad=0.)\n",
    "plt.xlabel('Max Depths')\n",
    "plt.xticks([4,8,12,16])\n",
    "plt.ylabel('Accuracy Scores')\n",
    "plt.title('Neural Network scores for different L values')\n",
    "plt.show()"
   ]
  },
  {
   "cell_type": "code",
   "execution_count": 57,
   "metadata": {},
   "outputs": [
    {
     "name": "stdout",
     "output_type": "stream",
     "text": [
      "Epoch: 1/1000"
     ]
    },
    {
     "name": "stderr",
     "output_type": "stream",
     "text": [
      "C:\\Users\\slm\\Anaconda3\\lib\\site-packages\\ipykernel_launcher.py:12: RuntimeWarning: overflow encountered in exp\n",
      "  if sys.path[0] == '':\n"
     ]
    },
    {
     "name": "stdout",
     "output_type": "stream",
     "text": []
    }
   ],
   "source": [
    "nn_scores = learning_rates(X, y)"
   ]
  },
  {
   "cell_type": "code",
   "execution_count": 58,
   "metadata": {},
   "outputs": [
    {
     "name": "stdout",
     "output_type": "stream",
     "text": [
      "[0.8519417475728155, 0.8033980582524272, 0.8470873786407767, 0.7524271844660194, 0.5606796116504854, 0.5631067961165048]\n"
     ]
    }
   ],
   "source": [
    "print(nn_scores)"
   ]
  },
  {
   "cell_type": "code",
   "execution_count": 59,
   "metadata": {},
   "outputs": [
    {
     "data": {
      "image/png": "[encoded data removed]",
      "text/plain": [
       "<Figure size 432x432 with 1 Axes>"
      ]
     },
     "metadata": {
      "needs_background": "light"
     },
     "output_type": "display_data"
    }
   ],
   "source": [
    "plt.figure(figsize =(6, 6)) \n",
    "plt.plot([i for i in range(6)], nn_scores, marker='*', color = 'red', label='Accuracy')\n",
    "plt.legend(bbox_to_anchor=(1.05, 1), loc='upper left', borderaxespad=0.)\n",
    "plt.xlabel('Max Depths')\n",
    "plt.xticks([0.0001, 0.001, 0.005, 0.01, 0.05, 0.1])\n",
    "plt.ylabel('Accuracy Scores')\n",
    "plt.title('Neural Network scores for different L values')\n",
    "plt.show()"
   ]
  }
 ],
 "metadata": {
  "kernelspec": {
   "display_name": "Python 3",
   "language": "python",
   "name": "python3"
  },
  "language_info": {
   "codemirror_mode": {
    "name": "ipython",
    "version": 3
   },
   "file_extension": ".py",
   "mimetype": "text/x-python",
   "name": "python",
   "nbconvert_exporter": "python",
   "pygments_lexer": "ipython3",
   "version": "3.7.3"
  }
 },
 "nbformat": 4,
 "nbformat_minor": 2
}
